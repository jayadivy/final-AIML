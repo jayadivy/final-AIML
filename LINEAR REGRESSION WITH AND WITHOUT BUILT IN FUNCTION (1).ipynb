{
 "cells": [
  {
   "cell_type": "code",
   "execution_count": 1,
   "id": "dd7e3ef4",
   "metadata": {},
   "outputs": [],
   "source": [
    "import numpy as np # linear algebra\n",
    "import pandas as pd # data processing, CSV file I/O (e.g. pd.read_csv)\n",
    "import matplotlib.pyplot as plt # data plotting"
   ]
  },
  {
   "cell_type": "code",
   "execution_count": 2,
   "id": "b84c9345",
   "metadata": {},
   "outputs": [
    {
     "data": {
      "text/html": [
       "<div>\n",
       "<style scoped>\n",
       "    .dataframe tbody tr th:only-of-type {\n",
       "        vertical-align: middle;\n",
       "    }\n",
       "\n",
       "    .dataframe tbody tr th {\n",
       "        vertical-align: top;\n",
       "    }\n",
       "\n",
       "    .dataframe thead th {\n",
       "        text-align: right;\n",
       "    }\n",
       "</style>\n",
       "<table border=\"1\" class=\"dataframe\">\n",
       "  <thead>\n",
       "    <tr style=\"text-align: right;\">\n",
       "      <th></th>\n",
       "      <th>YearsExperience</th>\n",
       "      <th>Salary</th>\n",
       "    </tr>\n",
       "  </thead>\n",
       "  <tbody>\n",
       "    <tr>\n",
       "      <th>0</th>\n",
       "      <td>1.1</td>\n",
       "      <td>39343.0</td>\n",
       "    </tr>\n",
       "    <tr>\n",
       "      <th>1</th>\n",
       "      <td>1.3</td>\n",
       "      <td>46205.0</td>\n",
       "    </tr>\n",
       "    <tr>\n",
       "      <th>2</th>\n",
       "      <td>1.5</td>\n",
       "      <td>37731.0</td>\n",
       "    </tr>\n",
       "    <tr>\n",
       "      <th>3</th>\n",
       "      <td>2.0</td>\n",
       "      <td>43525.0</td>\n",
       "    </tr>\n",
       "    <tr>\n",
       "      <th>4</th>\n",
       "      <td>2.2</td>\n",
       "      <td>39891.0</td>\n",
       "    </tr>\n",
       "  </tbody>\n",
       "</table>\n",
       "</div>"
      ],
      "text/plain": [
       "   YearsExperience   Salary\n",
       "0              1.1  39343.0\n",
       "1              1.3  46205.0\n",
       "2              1.5  37731.0\n",
       "3              2.0  43525.0\n",
       "4              2.2  39891.0"
      ]
     },
     "execution_count": 2,
     "metadata": {},
     "output_type": "execute_result"
    }
   ],
   "source": [
    "dataset = pd.read_csv('Salary_Data.csv')\n",
    "dataset.head()"
   ]
  },
  {
   "cell_type": "code",
   "execution_count": 3,
   "id": "6993a8f2",
   "metadata": {},
   "outputs": [],
   "source": [
    "X = dataset.iloc[:,:-1].values  #independent variable array\n",
    "y = dataset.iloc[:,1].values  #dependent variable vector"
   ]
  },
  {
   "cell_type": "code",
   "execution_count": 4,
   "id": "f9609dd7",
   "metadata": {},
   "outputs": [],
   "source": [
    "from sklearn.model_selection import train_test_split\n",
    "X_train, X_test, y_train, y_test = train_test_split(X,y,test_size=1/3,random_state=0)"
   ]
  },
  {
   "cell_type": "code",
   "execution_count": 5,
   "id": "2598a43d",
   "metadata": {},
   "outputs": [
    {
     "data": {
      "text/plain": [
       "LinearRegression()"
      ]
     },
     "execution_count": 5,
     "metadata": {},
     "output_type": "execute_result"
    }
   ],
   "source": [
    "from sklearn.linear_model import LinearRegression\n",
    "regressor = LinearRegression()\n",
    "regressor.fit(X_train,y_train) #actually produces the linear eqn for the data\n"
   ]
  },
  {
   "cell_type": "code",
   "execution_count": 6,
   "id": "44aa273a",
   "metadata": {},
   "outputs": [
    {
     "data": {
      "text/plain": [
       "array([ 40835.10590871, 123079.39940819,  65134.55626083,  63265.36777221,\n",
       "       115602.64545369, 108125.8914992 , 116537.23969801,  64199.96201652,\n",
       "        76349.68719258, 100649.1375447 ])"
      ]
     },
     "execution_count": 6,
     "metadata": {},
     "output_type": "execute_result"
    }
   ],
   "source": [
    "y_pred = regressor.predict(X_test)\n",
    "y_pred"
   ]
  },
  {
   "cell_type": "code",
   "execution_count": 7,
   "id": "cfb78cba",
   "metadata": {},
   "outputs": [
    {
     "data": {
      "text/plain": [
       "array([ 37731., 122391.,  57081.,  63218., 116969., 109431., 112635.,\n",
       "        55794.,  83088., 101302.])"
      ]
     },
     "execution_count": 7,
     "metadata": {},
     "output_type": "execute_result"
    }
   ],
   "source": [
    "y_test"
   ]
  },
  {
   "cell_type": "code",
   "execution_count": 8,
   "id": "2631e284",
   "metadata": {},
   "outputs": [
    {
     "data": {
      "image/png": "[encoded data removed]",
      "text/plain": [
       "<Figure size 640x480 with 1 Axes>"
      ]
     },
     "metadata": {},
     "output_type": "display_data"
    }
   ],
   "source": [
    "#plot for the TRAIN\n",
    "\n",
    "plt.scatter(X_train, y_train, color='red') # plotting the observation line\n",
    "\n",
    "plt.plot(X_train, regressor.predict(X_train), color='blue') # plotting the regression line\n",
    "\n",
    "plt.title(\"Salary vs Experience (Training set)\") # stating the title of the graph\n",
    "\n",
    "plt.xlabel(\"Years of experience\") # adding the name of x-axis\n",
    "plt.ylabel(\"Salaries\") # adding the name of y-axis\n",
    "plt.show() # specifies end of graph"
   ]
  },
  {
   "cell_type": "code",
   "execution_count": 9,
   "id": "879a0972",
   "metadata": {},
   "outputs": [
    {
     "data": {
      "image/png": "[encoded data removed]",
      "text/plain": [
       "<Figure size 640x480 with 1 Axes>"
      ]
     },
     "metadata": {},
     "output_type": "display_data"
    }
   ],
   "source": [
    "#plot for the TEST\n",
    "\n",
    "plt.scatter(X_test, y_test, color='red')\n",
    "plt.plot(X_train, regressor.predict(X_train), color='blue') # plotting the regression line\n",
    "\n",
    "plt.title(\"Salary vs Experience (Testing set)\")\n",
    "\n",
    "plt.xlabel(\"Years of experience\")\n",
    "plt.ylabel(\"Salaries\")\n",
    "plt.show()"
   ]
  },
  {
   "cell_type": "code",
   "execution_count": 10,
   "id": "3f032b6c",
   "metadata": {},
   "outputs": [
    {
     "name": "stdout",
     "output_type": "stream",
     "text": [
      "Coefficient: [9345.94244312]\n",
      "Intercept 26816.19224403119\n"
     ]
    }
   ],
   "source": [
    "print(\"Coefficient:\",regressor.coef_)\n",
    "print(\"Intercept\",regressor.intercept_)"
   ]
  },
  {
   "cell_type": "code",
   "execution_count": 11,
   "id": "78b4aa56",
   "metadata": {},
   "outputs": [],
   "source": [
    "# withot built in"
   ]
  },
  {
   "cell_type": "code",
   "execution_count": 12,
   "id": "f9660daf",
   "metadata": {},
   "outputs": [],
   "source": [
    "import matplotlib.pyplot as plt\n",
    "from scipy import stats\n",
    "import numpy as np\n",
    "import pandas as pd\n"
   ]
  },
  {
   "cell_type": "code",
   "execution_count": 13,
   "id": "f90ec6bc",
   "metadata": {},
   "outputs": [],
   "source": [
    "x=dataset['YearsExperience']\n",
    "y=dataset['Salary']"
   ]
  },
  {
   "cell_type": "code",
   "execution_count": 14,
   "id": "814f9191",
   "metadata": {},
   "outputs": [
    {
     "name": "stdout",
     "output_type": "stream",
     "text": [
      "Slope (m): 9449.962321455077\n",
      "Intercept (b): 25792.20019866869\n"
     ]
    }
   ],
   "source": [
    "def x_dev(xdata):\n",
    "    n = len(xdata)\n",
    "    mean_x = sum(xdata) / n\n",
    "    x_deviations = [x - mean_x for x in xdata]\n",
    "    return x_deviations\n",
    "\n",
    "def y_dev(ydata):\n",
    "    n = len(ydata)\n",
    "    mean_y = sum(ydata) / n\n",
    "    y_deviations = [y - mean_y for y in ydata]\n",
    "    return y_deviations\n",
    "\n",
    "x_deviation = x_dev(x)\n",
    "y_deviation = y_dev(y)\n",
    "\n",
    "def delta_x(x_deviation):\n",
    "    square = [x**2 for x in x_deviation]\n",
    "    return sum(square)\n",
    "\n",
    "def delta_y(x_deviation, y_deviation):\n",
    "    product = [x * y for x, y in zip(x_deviation, y_deviation)]\n",
    "    return sum(product)\n",
    "\n",
    "X = delta_x(x_deviation)\n",
    "Y = delta_y(x_deviation, y_deviation)\n",
    "\n",
    "# Calculate the slope (m) and intercept (b)\n",
    "slope = Y / X\n",
    "intercept = np.mean(y) - slope * np.mean(x)\n",
    "\n",
    "print(\"Slope (m):\", slope)\n",
    "print(\"Intercept (b):\", intercept)\n"
   ]
  },
  {
   "cell_type": "code",
   "execution_count": null,
   "id": "8caf08b9",
   "metadata": {},
   "outputs": [],
   "source": []
  },
  {
   "cell_type": "code",
   "execution_count": null,
   "id": "9db00196",
   "metadata": {},
   "outputs": [],
   "source": []
  },
  {
   "cell_type": "code",
   "execution_count": null,
   "id": "d5f9f02d",
   "metadata": {},
   "outputs": [],
   "source": []
  }
 ],
 "metadata": {
  "kernelspec": {
   "display_name": "Python 3 (ipykernel)",
   "language": "python",
   "name": "python3"
  },
  "language_info": {
   "codemirror_mode": {
    "name": "ipython",
    "version": 3
   },
   "file_extension": ".py",
   "mimetype": "text/x-python",
   "name": "python",
   "nbconvert_exporter": "python",
   "pygments_lexer": "ipython3",
   "version": "3.9.13"
  }
 },
 "nbformat": 4,
 "nbformat_minor": 5
}
